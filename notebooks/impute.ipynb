{
 "cells": [
  {
   "cell_type": "code",
   "execution_count": 2,
   "metadata": {},
   "outputs": [
    {
     "name": "stdout",
     "output_type": "stream",
     "text": [
      "Loading SNP and STR test data...\n",
      "SNP data shape: (26272455, 6)\n",
      "STR test data shape: (28355, 4)\n",
      "Preprocessing SNP data...\n",
      "Initial SNP data shape: (26272455, 6)\n",
      "SNP data shape after pivot: (8442, 2985)\n",
      "Filled missing values with '0'.\n",
      "SNP data shape after allele mapping: (8442, 2985)\n",
      "SNP pivot data shape: (8442, 2985)\n"
     ]
    }
   ],
   "source": [
    "import os\n",
    "import numpy as np\n",
    "import pandas as pd\n",
    "from tqdm import tqdm\n",
    "from catboost import CatBoostRegressor\n",
    "from xgboost import XGBRegressor\n",
    "\n",
    "# Загрузка данных\n",
    "print(\"Loading SNP and STR test data...\")\n",
    "snp_data = pd.read_csv(\"data/raw/FinalReport.csv\", sep=\";\")\n",
    "str_test = pd.read_csv(\"data/raw/STR_test.csv\", sep=\";\")\n",
    "\n",
    "\n",
    "# Предобработка SNP данных\n",
    "def preprocess_snp(df):\n",
    "    print(\"Preprocessing SNP data...\")\n",
    "    df = df.pivot_table(\n",
    "        index=\"animal_id\", columns=\"SNP Name\", values=\"Allele1 - AB\", aggfunc=\"first\"\n",
    "    )\n",
    "    df = df.fillna(\"0\")\n",
    "    print(\"Filled missing values with '0'.\")\n",
    "    \n",
    "    allele_mapping = {\"A\": 0, \"B\": 1, \"0\": np.nan}\n",
    "    df = df.replace(allele_mapping)\n",
    "    return df\n",
    "\n",
    "\n",
    "snp_pivot = preprocess_snp(snp_data)\n",
    "print(f\"SNP pivot data shape: {snp_pivot.shape}\")\n",
    "\n"
   ]
  },
  {
   "cell_type": "code",
   "execution_count": 4,
   "metadata": {},
   "outputs": [
    {
     "name": "stdout",
     "output_type": "stream",
     "text": [
      "Loading XGBoost models from ../models/xgboost...\n",
      "Loaded XGBoost model: Allele1_SPS115\n",
      "Loaded XGBoost model: Allele1_ETH225\n",
      "Loaded XGBoost model: Allele2_TGLA53\n",
      "Loaded XGBoost model: Allele2_INRA023\n",
      "Loaded XGBoost model: Allele1_TGLA126\n",
      "Loaded XGBoost model: Allele1_ETH3\n",
      "Loaded XGBoost model: Allele1_BM1824\n",
      "Loaded XGBoost model: Allele2_TGLA126\n",
      "Loaded XGBoost model: Allele2_TGLA122\n",
      "Loaded XGBoost model: Allele1_ETH10\n",
      "Loaded XGBoost model: Allele2_ETH3\n",
      "Loaded XGBoost model: Allele2_ETH225\n",
      "Loaded XGBoost model: Allele2_SPS115\n",
      "Loaded XGBoost model: Allele1_INRA023\n",
      "Loaded XGBoost model: Allele2_BM2113\n",
      "Loaded XGBoost model: Allele1_TGLA227\n",
      "Loaded XGBoost model: Allele1_TGLA53\n",
      "Loaded XGBoost model: Allele1_BM1818\n",
      "Loaded XGBoost model: Allele1_TGLA122\n",
      "Loaded XGBoost model: Allele1_BM2113\n",
      "Loaded XGBoost model: Allele2_BM1824\n",
      "Loaded XGBoost model: Allele2_BM1818\n",
      "Loaded XGBoost model: Allele2_ETH10\n",
      "Loaded XGBoost model: Allele2_TGLA227\n",
      "Total models loaded: 24\n"
     ]
    }
   ],
   "source": [
    "\n",
    "# Функция для загрузки моделей\n",
    "def load_models(model_dir, model_type):\n",
    "    print(f\"Loading {model_type} models from {model_dir}...\")\n",
    "    models = {}\n",
    "    for file_name in os.listdir(model_dir):\n",
    "        # Извлекаем имя аллеля и маркера\n",
    "        if file_name.endswith(\".cbm\") and model_type == \"CatBoost\":\n",
    "            model_name = \"_\".join(file_name.split(\"_\")[:2])  # Извлекаем имя как 'Allele1_TGLA227'\n",
    "            model = CatBoostRegressor()\n",
    "            model.load_model(os.path.join(model_dir, file_name))\n",
    "            models[model_name] = model\n",
    "            print(f\"Loaded CatBoost model: {model_name}\")\n",
    "        elif file_name.endswith(\".json\") and model_type == \"XGBoost\":\n",
    "            model_name = \"_\".join(file_name.split(\"_\")[:2])  # Извлекаем имя как 'Allele1_TGLA227'\n",
    "            model = XGBRegressor()\n",
    "            model.load_model(os.path.join(model_dir, file_name))\n",
    "            models[model_name] = model\n",
    "            print(f\"Loaded XGBoost model: {model_name}\")\n",
    "    return models\n",
    "\n",
    "\n",
    "# Определяем, какой тип модели использовать\n",
    "model_type = \"XGBoost\"  # или \"CatBoost\", в зависимости от того, какие модели использовать\n",
    "model_dir = f\"models/{model_type.lower()}\"\n",
    "\n",
    "\n",
    "models = load_models(model_dir, model_type)\n",
    "\n",
    "\n",
    "\n",
    "if not models:\n",
    "    print(f\"No models found in {model_dir}. Exiting...\")\n",
    "    exit()\n",
    "\n",
    "print(f\"Total models loaded: {len(models)}\")\n"
   ]
  },
  {
   "cell_type": "code",
   "execution_count": 8,
   "metadata": {},
   "outputs": [
    {
     "name": "stdout",
     "output_type": "stream",
     "text": [
      "Total STR markers: 12\n"
     ]
    },
    {
     "name": "stderr",
     "output_type": "stream",
     "text": [
      "Predicting alleles for STR markers:   0%|          | 0/12 [00:00<?, ?it/s]"
     ]
    },
    {
     "name": "stdout",
     "output_type": "stream",
     "text": [
      "Predicting Allele1_TGLA227...\n",
      "Shape of SNP data for prediction: (1688, 2983)\n",
      "Predicting Allele2_TGLA227...\n",
      "Shape of SNP data for prediction: (1688, 2983)\n"
     ]
    },
    {
     "name": "stderr",
     "output_type": "stream",
     "text": [
      "Predicting alleles for STR markers:   8%|▊         | 1/12 [00:05<00:55,  5.05s/it]"
     ]
    },
    {
     "name": "stdout",
     "output_type": "stream",
     "text": [
      "Predicting Allele1_TGLA126...\n",
      "Shape of SNP data for prediction: (1688, 2983)\n",
      "Predicting Allele2_TGLA126...\n",
      "Shape of SNP data for prediction: (1688, 2983)\n"
     ]
    },
    {
     "name": "stderr",
     "output_type": "stream",
     "text": [
      "Predicting alleles for STR markers:  17%|█▋        | 2/12 [00:10<00:50,  5.09s/it]"
     ]
    },
    {
     "name": "stdout",
     "output_type": "stream",
     "text": [
      "Predicting Allele1_TGLA122...\n",
      "Shape of SNP data for prediction: (1688, 2983)\n",
      "Predicting Allele2_TGLA122...\n",
      "Shape of SNP data for prediction: (1688, 2983)\n"
     ]
    },
    {
     "name": "stderr",
     "output_type": "stream",
     "text": [
      "Predicting alleles for STR markers:  25%|██▌       | 3/12 [00:15<00:45,  5.09s/it]"
     ]
    },
    {
     "name": "stdout",
     "output_type": "stream",
     "text": [
      "Predicting Allele1_TGLA53...\n",
      "Shape of SNP data for prediction: (1688, 2983)\n",
      "Predicting Allele2_TGLA53...\n",
      "Shape of SNP data for prediction: (1688, 2983)\n"
     ]
    },
    {
     "name": "stderr",
     "output_type": "stream",
     "text": [
      "Predicting alleles for STR markers:  33%|███▎      | 4/12 [00:20<00:40,  5.07s/it]"
     ]
    },
    {
     "name": "stdout",
     "output_type": "stream",
     "text": [
      "Predicting Allele1_SPS115...\n",
      "Shape of SNP data for prediction: (1688, 2983)\n",
      "Predicting Allele2_SPS115...\n",
      "Shape of SNP data for prediction: (1688, 2983)\n"
     ]
    },
    {
     "name": "stderr",
     "output_type": "stream",
     "text": [
      "Predicting alleles for STR markers:  42%|████▏     | 5/12 [00:25<00:35,  5.10s/it]"
     ]
    },
    {
     "name": "stdout",
     "output_type": "stream",
     "text": [
      "Predicting Allele1_INRA023...\n",
      "Shape of SNP data for prediction: (1688, 2983)\n",
      "Predicting Allele2_INRA023...\n",
      "Shape of SNP data for prediction: (1688, 2983)\n"
     ]
    },
    {
     "name": "stderr",
     "output_type": "stream",
     "text": [
      "Predicting alleles for STR markers:  50%|█████     | 6/12 [00:30<00:30,  5.10s/it]"
     ]
    },
    {
     "name": "stdout",
     "output_type": "stream",
     "text": [
      "Predicting Allele1_ETH225...\n",
      "Shape of SNP data for prediction: (1688, 2983)\n",
      "Predicting Allele2_ETH225...\n",
      "Shape of SNP data for prediction: (1688, 2983)\n"
     ]
    },
    {
     "name": "stderr",
     "output_type": "stream",
     "text": [
      "Predicting alleles for STR markers:  58%|█████▊    | 7/12 [00:35<00:25,  5.08s/it]"
     ]
    },
    {
     "name": "stdout",
     "output_type": "stream",
     "text": [
      "Predicting Allele1_ETH3...\n",
      "Shape of SNP data for prediction: (1688, 2983)\n",
      "Predicting Allele2_ETH3...\n",
      "Shape of SNP data for prediction: (1688, 2983)\n"
     ]
    },
    {
     "name": "stderr",
     "output_type": "stream",
     "text": [
      "Predicting alleles for STR markers:  67%|██████▋   | 8/12 [00:40<00:20,  5.09s/it]"
     ]
    },
    {
     "name": "stdout",
     "output_type": "stream",
     "text": [
      "Predicting Allele1_BM2113...\n",
      "Shape of SNP data for prediction: (1688, 2983)\n",
      "Predicting Allele2_BM2113...\n",
      "Shape of SNP data for prediction: (1688, 2983)\n"
     ]
    },
    {
     "name": "stderr",
     "output_type": "stream",
     "text": [
      "Predicting alleles for STR markers:  75%|███████▌  | 9/12 [00:45<00:15,  5.09s/it]"
     ]
    },
    {
     "name": "stdout",
     "output_type": "stream",
     "text": [
      "Predicting Allele1_BM1824...\n",
      "Shape of SNP data for prediction: (1688, 2983)\n",
      "Predicting Allele2_BM1824...\n",
      "Shape of SNP data for prediction: (1688, 2983)\n"
     ]
    },
    {
     "name": "stderr",
     "output_type": "stream",
     "text": [
      "Predicting alleles for STR markers:  83%|████████▎ | 10/12 [00:50<00:10,  5.08s/it]"
     ]
    },
    {
     "name": "stdout",
     "output_type": "stream",
     "text": [
      "Predicting Allele1_BM1818...\n",
      "Shape of SNP data for prediction: (1688, 2983)\n",
      "Predicting Allele2_BM1818...\n",
      "Shape of SNP data for prediction: (1688, 2983)\n"
     ]
    },
    {
     "name": "stderr",
     "output_type": "stream",
     "text": [
      "Predicting alleles for STR markers:  92%|█████████▏| 11/12 [00:56<00:05,  5.10s/it]"
     ]
    },
    {
     "name": "stdout",
     "output_type": "stream",
     "text": [
      "Predicting Allele1_ETH10...\n",
      "Shape of SNP data for prediction: (1688, 2983)\n",
      "Predicting Allele2_ETH10...\n",
      "Shape of SNP data for prediction: (1688, 2983)\n"
     ]
    },
    {
     "name": "stderr",
     "output_type": "stream",
     "text": [
      "Predicting alleles for STR markers: 100%|██████████| 12/12 [01:01<00:00,  5.10s/it]\n"
     ]
    }
   ],
   "source": [
    "str_markers = str_test[\"STR Name\"].unique()\n",
    "\n",
    "imputed_data = []\n",
    "missing_models = 0\n",
    "for marker in tqdm(str_markers, desc=\"Predicting alleles for STR markers\"):\n",
    "    for allele in [\"Allele1\", \"Allele2\"]:\n",
    "        target = f\"{allele}_{marker}\"\n",
    "        if target in models:\n",
    "            model = models[target]\n",
    "            X_pred = snp_pivot.loc[str_test[\"animal_id\"].unique()].fillna(0)\n",
    "            X_pred = X_pred.apply(pd.to_numeric, errors='coerce').fillna(0)\n",
    "            X_pred = X_pred.drop(columns=['BovineHD1900015984', 'BovineHD3100000210'])\n",
    "            y_pred = model.predict(X_pred)\n",
    "            temp_df = pd.DataFrame(\n",
    "                {\"animal_id\": X_pred.index, \"STR Name\": marker, allele: y_pred}\n",
    "            )\n",
    "            imputed_data.append(temp_df)\n",
    "        else:\n",
    "            print(f\"Model for {target} not found.\")\n",
    "            missing_models += 1\n",
    "\n",
    "if missing_models > 0:\n",
    "    print(f\"{missing_models} models were missing and skipped.\")\n"
   ]
  },
  {
   "cell_type": "code",
   "execution_count": 10,
   "metadata": {},
   "outputs": [
    {
     "name": "stdout",
     "output_type": "stream",
     "text": [
      "Merged imputed data shape: (40512, 4)\n",
      "Merging imputed data with the original STR test data...\n",
      "STR test data shape after dropping original alleles: (56710, 2)\n",
      "STR test data shape after merging: (113420, 4)\n",
      "Imputed STR test data saved to ../data/processed/STR_test_imputed.csv.\n"
     ]
    }
   ],
   "source": [
    "# Объединение предсказанных данных\n",
    "if imputed_data:\n",
    "    imputed_df = pd.concat(imputed_data, axis=0)\n",
    "\n",
    "    str_test = str_test.drop(columns=[\"Allele1\", \"Allele2\"])\n",
    "    str_test = str_test.merge(imputed_df, on=[\"animal_id\", \"STR Name\"], how=\"left\")\n",
    "\n",
    "\n",
    "\n",
    "    output_path = \"data/processed/STR_test_imputed.csv\"\n",
    "    str_test.to_csv(output_path, index=False, sep=\";\")\n",
    "    print(f\"Imputed STR test data saved to {output_path}.\")\n",
    "else:\n",
    "    print(\"No imputed data to save. Exiting...\")\n"
   ]
  }
 ],
 "metadata": {
  "kernelspec": {
   "display_name": "ksitest",
   "language": "python",
   "name": "python3"
  },
  "language_info": {
   "codemirror_mode": {
    "name": "ipython",
    "version": 3
   },
   "file_extension": ".py",
   "mimetype": "text/x-python",
   "name": "python",
   "nbconvert_exporter": "python",
   "pygments_lexer": "ipython3",
   "version": "3.10.14"
  }
 },
 "nbformat": 4,
 "nbformat_minor": 2
}
